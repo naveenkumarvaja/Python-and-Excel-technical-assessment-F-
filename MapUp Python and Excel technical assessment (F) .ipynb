{
 "cells": [
  {
   "cell_type": "markdown",
   "id": "3a567e5a-5901-4a74-aec5-d09bd2e63254",
   "metadata": {},
   "source": [
    "# question 1: Car Matrix Generation"
   ]
  },
  {
   "cell_type": "code",
   "execution_count": 4,
   "id": "d02732c2-29a0-4fe8-96bb-7195ec7fdb18",
   "metadata": {
    "tags": []
   },
   "outputs": [
    {
     "name": "stdout",
     "output_type": "stream",
     "text": [
      "       827    821    804    822    826    807    809    801    824    823  \\\n",
      "829   4.14  13.26  28.92  11.81   5.81  19.62  15.72  36.32  21.40  10.00   \n",
      "827   0.00   9.43  25.13   8.00   2.05  15.83  11.93  32.53   4.92   6.15   \n",
      "821   9.43   0.00  16.12   1.80   8.01   6.82   2.92  23.52   5.06   3.67   \n",
      "804  25.13  16.12   0.00  17.27  23.47   9.50  13.70   7.70  20.52  19.13   \n",
      "822   8.00   1.80  17.27   0.00   6.55   7.97   4.07  24.67   3.60   2.21   \n",
      "826   2.05   8.01  23.47   6.55   0.00  14.17  10.27  30.87   3.50   4.74   \n",
      "807  15.83   6.82   9.50   7.97  14.17   0.00   4.30  16.90  11.22   9.83   \n",
      "809  11.93   2.92  13.70   4.07  10.27   4.30   0.00  21.00   7.32   5.93   \n",
      "801  32.53  23.52   7.70  24.67  30.87  16.90  21.00   0.00  27.92  26.53   \n",
      "824   4.92   5.06  20.52   3.60   3.50  11.22   7.32  27.92   0.00   1.79   \n",
      "823   6.15   3.67  19.13   2.21   4.74   9.83   5.93  26.53   1.79   0.00   \n",
      "831   7.04  16.15  31.84  14.68   8.69  22.54  18.64  39.24  11.64  12.87   \n",
      "808  13.13   4.12  12.30   5.27  11.47   2.90   1.70  19.60   8.52   7.13   \n",
      "802  29.93  20.92   5.20  22.07  28.27  14.30  18.50   2.80  25.32  23.93   \n",
      "805  21.03  12.02   4.40  13.17  19.37   5.40   9.60  11.70  16.42  15.03   \n",
      "825   3.65   6.22  21.68   4.76   2.20  12.38   8.48  29.08   1.71   2.94   \n",
      "806  19.43  10.42   6.10  11.57  17.77   3.80   8.00  13.40  14.82  13.43   \n",
      "830   6.06  15.17  30.87  13.74   7.71  21.57  17.67  38.27  10.66  11.89   \n",
      "803  26.73  17.72   2.00  18.87  25.07  11.10  15.30   6.00  22.12  20.73   \n",
      "\n",
      "       831    808    802    805    825    806    830    803    829  \n",
      "829   3.36  16.92  33.72  24.82   7.46  23.22   2.38  30.52   0.00  \n",
      "827   7.04  13.13  29.93  21.03   3.65  19.43   6.06  26.73   4.14  \n",
      "821  16.15   4.12  20.92  12.02   6.22  10.42  15.17  17.72  13.26  \n",
      "804  31.84  12.30   5.20   4.40  21.68   6.10  30.87   2.00  28.92  \n",
      "822  14.68   5.27  22.07  13.17   4.76  11.57  13.74  18.87  11.81  \n",
      "826   8.69  11.47  28.27  19.37   2.20  17.77   7.71  25.07   5.81  \n",
      "807  22.54   2.90  14.30   5.40  12.38   3.80  21.57  11.10  19.62  \n",
      "809  18.64   1.70  18.50   9.60   8.48   8.00  17.67  15.30  15.72  \n",
      "801  39.24  19.60   2.80  11.70  29.08  13.40  38.27   6.00  36.32  \n",
      "824  11.64   8.52  25.32  16.42   1.71   7.80  10.66  22.12   8.77  \n",
      "823  12.87   7.13  23.93  15.03   2.94  13.43  11.89  20.73  10.00  \n",
      "831   0.00  19.84  36.64  27.74  10.33  26.14   1.39  33.44   3.36  \n",
      "808  19.84   0.00  17.10   8.20   9.68   6.60  18.87  13.90  16.92  \n",
      "802  36.64  17.10   0.00   9.20  26.48  10.90  35.67   3.40  33.72  \n",
      "805  27.74   8.20   9.20   0.00  17.58   2.00  26.77   6.00  24.82  \n",
      "825  10.33   9.68  26.48  17.58   0.00  15.98   9.35  23.28   7.46  \n",
      "806  26.14   6.60  10.90   2.00  15.98   0.00  25.17   7.70  23.22  \n",
      "830   1.39  18.87  35.67  26.77   0.00  25.17   0.00  32.47   2.38  \n",
      "803  33.44  13.90   3.40   6.00  23.28   7.70  32.47   0.00  30.52  \n"
     ]
    }
   ],
   "source": [
    "import pandas as pd\n",
    "\n",
    "def generate_car_matrix(dataset_path):\n",
    "    # Load the dataset into a DataFrame\n",
    "    df = pd.read_csv(dataset_path)\n",
    "\n",
    "    # Extract unique values from id_1 and id_2 columns\n",
    "    id_1_values = df['id_1'].unique()\n",
    "    id_2_values = df['id_2'].unique()\n",
    "\n",
    "    # Create an empty matrix DataFrame with id_2 values as columns and id_1 values as index\n",
    "    car_matrix = pd.DataFrame(0, index=id_1_values, columns=id_2_values)\n",
    "\n",
    "    # Fill the matrix with values from the 'car' column\n",
    "    for _, row in df.iterrows():\n",
    "        car_matrix.at[row['id_1'], row['id_2']] = row['car']\n",
    "\n",
    "    return car_matrix\n",
    "\n",
    "# Example usage:\n",
    "dataset_path = 'dataset1.csv'\n",
    "result_matrix = generate_car_matrix(dataset_path)\n",
    "print(result_matrix)\n"
   ]
  },
  {
   "cell_type": "code",
   "execution_count": null,
   "id": "9e30741f-7fa7-45e3-aa9f-31a9fcc71a09",
   "metadata": {},
   "outputs": [],
   "source": []
  },
  {
   "cell_type": "code",
   "execution_count": null,
   "id": "56a1a99c-1dcc-4d66-a2b5-d6ee7a3fbe6b",
   "metadata": {},
   "outputs": [],
   "source": []
  },
  {
   "cell_type": "code",
   "execution_count": null,
   "id": "6db9328a-c2ee-433c-8b9d-4ee701f3852b",
   "metadata": {},
   "outputs": [],
   "source": []
  },
  {
   "cell_type": "code",
   "execution_count": null,
   "id": "8fac43c2-532a-4022-bfc2-26da7e6c988a",
   "metadata": {},
   "outputs": [],
   "source": []
  },
  {
   "cell_type": "markdown",
   "id": "e1d2615b-1f26-43de-9f30-3daa142fa905",
   "metadata": {},
   "source": [
    "# Question 2: Car Type Count Calculation\n",
    "# Create a Python function named get_type_count that takes the dataset-1.csv as a DataFrame. Add a new categorical column car_type based on values of the column car:\n",
    "\n",
    "# low for values less than or equal to 15,\n",
    "# medium for values greater than 15 and less than or equal to 25,\n",
    "# high for values greater than 25.\n",
    "# Calculate the count of occurrences for each car_type category and return the result as a dictionary. Sort the dictionary alphabetically based on keys."
   ]
  },
  {
   "cell_type": "code",
   "execution_count": 6,
   "id": "a1626b8b-ec27-4277-b068-1fb9f60dce1e",
   "metadata": {
    "tags": []
   },
   "outputs": [
    {
     "name": "stdout",
     "output_type": "stream",
     "text": [
      "{'high': 56, 'low': 196, 'medium': 89}\n"
     ]
    }
   ],
   "source": [
    "import pandas as pd\n",
    "import numpy as np\n",
    "\n",
    "def get_type_count(dataset_path):\n",
    "    # Load the dataset into a DataFrame\n",
    "    df = pd.read_csv(dataset_path)\n",
    "\n",
    "    # Add a new column 'car_type' based on the values of the 'car' column\n",
    "    conditions = [\n",
    "        (df['car'] <= 15),\n",
    "        (df['car'] > 15) & (df['car'] <= 25),\n",
    "        (df['car'] > 25)\n",
    "    ]\n",
    "\n",
    "    choices = ['low', 'medium', 'high']\n",
    "    df['car_type'] = pd.Series(np.select(conditions, choices))\n",
    "\n",
    "    # Calculate the count of occurrences for each car_type category\n",
    "    type_count = df['car_type'].value_counts().to_dict()\n",
    "\n",
    "    # Sort the dictionary alphabetically based on keys\n",
    "    type_count_sorted = {k: v for k, v in sorted(type_count.items())}\n",
    "\n",
    "    return type_count_sorted\n",
    "\n",
    "# Example usage:\n",
    "dataset_path = 'dataset1.csv'\n",
    "result_type_count = get_type_count(dataset_path)\n",
    "print(result_type_count)\n"
   ]
  },
  {
   "cell_type": "code",
   "execution_count": null,
   "id": "af35f5e1-b43b-41c1-a96d-8468c461353b",
   "metadata": {},
   "outputs": [],
   "source": []
  },
  {
   "cell_type": "code",
   "execution_count": null,
   "id": "0f2cba83-6c4a-4946-87f5-5a31a6d4c944",
   "metadata": {},
   "outputs": [],
   "source": []
  },
  {
   "cell_type": "code",
   "execution_count": null,
   "id": "df80968f-2fd2-4519-9537-fab641684716",
   "metadata": {},
   "outputs": [],
   "source": []
  },
  {
   "cell_type": "markdown",
   "id": "b1817372-f324-4091-8d7b-77d06a4d3255",
   "metadata": {},
   "source": [
    "# Question 3: Bus Count Index Retrieval\n",
    "# Create a Python function named get_bus_indexes that takes the dataset-1.csv as a DataFrame. The function should identify and return the indices as a list (sorted in ascending order) where the bus values are greater than twice the mean value of the bus column in the DataFrame."
   ]
  },
  {
   "cell_type": "code",
   "execution_count": 8,
   "id": "e4e553f6-e824-45a4-afec-2ce41185cef1",
   "metadata": {
    "tags": []
   },
   "outputs": [
    {
     "name": "stdout",
     "output_type": "stream",
     "text": [
      "[2, 7, 12, 17, 25, 30, 54, 64, 70, 97, 144, 145, 149, 154, 160, 201, 206, 210, 215, 234, 235, 245, 250, 309, 314, 319, 322, 323, 334, 340]\n"
     ]
    }
   ],
   "source": [
    "import pandas as pd\n",
    "\n",
    "def get_bus_indexes(dataset_path):\n",
    "    # Load the dataset into a DataFrame\n",
    "    df = pd.read_csv(dataset_path)\n",
    "\n",
    "    # Calculate the mean value of the 'bus' column\n",
    "    mean_bus_value = df['bus'].mean()\n",
    "\n",
    "    # Identify indices where the 'bus' values are greater than twice the mean value\n",
    "    bus_indexes = df[df['bus'] > 2 * mean_bus_value].index.tolist()\n",
    "\n",
    "    # Sort the indices in ascending order\n",
    "    bus_indexes_sorted = sorted(bus_indexes)\n",
    "\n",
    "    return bus_indexes_sorted\n",
    "\n",
    "# Example usage:\n",
    "dataset_path = 'dataset1.csv'\n",
    "result_bus_indexes = get_bus_indexes(dataset_path)\n",
    "print(result_bus_indexes)\n"
   ]
  },
  {
   "cell_type": "code",
   "execution_count": null,
   "id": "82fcaf3f-8af8-45ee-bf67-96405e337279",
   "metadata": {},
   "outputs": [],
   "source": []
  },
  {
   "cell_type": "code",
   "execution_count": null,
   "id": "1b3c236e-d1c1-46c0-a649-1723db38e536",
   "metadata": {},
   "outputs": [],
   "source": []
  },
  {
   "cell_type": "markdown",
   "id": "67e20342-661f-4140-82e3-00673a28a04c",
   "metadata": {
    "tags": []
   },
   "source": [
    "# Question 4: Route Filtering\n",
    "# Create a python function filter_routes that takes the dataset-1.csv as a DataFrame. The function should return the sorted list of values of column route for which the average of values of truck column is greater than 7."
   ]
  },
  {
   "cell_type": "code",
   "execution_count": 10,
   "id": "70a7bf0f-1661-429e-a324-d9080b1989c4",
   "metadata": {
    "tags": []
   },
   "outputs": [
    {
     "name": "stdout",
     "output_type": "stream",
     "text": [
      "[1, 2, 3, 4, 5, 6, 7, 8, 9, 10]\n"
     ]
    }
   ],
   "source": [
    "import pandas as pd\n",
    "\n",
    "def filter_routes(dataset_path):\n",
    "    # Load the dataset into a DataFrame\n",
    "    df = pd.read_csv(dataset_path)\n",
    "\n",
    "    # Calculate the average value of the 'truck' column for each route\n",
    "    average_truck_values = df.groupby('route')['truck'].mean()\n",
    "\n",
    "    # Filter routes where the average of 'truck' values is greater than 7\n",
    "    filtered_routes = average_truck_values[average_truck_values > 7].index.tolist()\n",
    "\n",
    "    # Sort the list of filtered routes\n",
    "    filtered_routes_sorted = sorted(filtered_routes)\n",
    "\n",
    "    return filtered_routes_sorted\n",
    "\n",
    "# Example usage:\n",
    "dataset_path = 'dataset1.csv'\n",
    "result_filtered_routes = filter_routes(dataset_path)\n",
    "print(result_filtered_routes)\n"
   ]
  },
  {
   "cell_type": "code",
   "execution_count": null,
   "id": "ae71a352-785c-412a-885b-abd4821c3a5b",
   "metadata": {},
   "outputs": [],
   "source": []
  },
  {
   "cell_type": "markdown",
   "id": "80078240-8373-42a3-b58a-ff85db32f71a",
   "metadata": {},
   "source": [
    "# Question 5: Matrix Value Modification\n",
    "# Create a Python function named multiply_matrix that takes the resulting DataFrame from Question 1, as input and modifies each value according to the following logic:\n",
    "\n",
    "# If a value in the DataFrame is greater than 20, multiply those values by 0.75,\n",
    "# If a value is 20 or less, multiply those values by 1.25.\n",
    "# The function should return the modified DataFrame which has values rounded to 1 decimal place."
   ]
  },
  {
   "cell_type": "code",
   "execution_count": 14,
   "id": "e417d98b-044d-43b3-9544-bbf6993d9873",
   "metadata": {
    "tags": []
   },
   "outputs": [],
   "source": [
    "import pandas as pd\n",
    "\n",
    "def multiply_matrix(car_matrix):\n",
    "    # Apply the specified logic to modify the values in the DataFrame\n",
    "    modified_matrix = car_matrix.applymap(lambda x: x * 0.75 if x > 20 else x * 1.25)\n",
    "\n",
    "    # Round the values to 1 decimal place\n",
    "    modified_matrix = modified_matrix.round(1)\n",
    "\n",
    "    return modified_matrix\n",
    "\n",
    "# Example usage:\n",
    "# Assuming you have the car_matrix from Question 1\n",
    "# car_matrix = generate_car_matrix('dataset-1.csv')\n",
    "# result_modified_matrix = multiply_matrix(car_matrix)\n",
    "# print(result_modified_matrix)\n"
   ]
  },
  {
   "cell_type": "code",
   "execution_count": null,
   "id": "f507fd5c-09b3-48de-8d87-9da39128e78d",
   "metadata": {},
   "outputs": [],
   "source": []
  },
  {
   "cell_type": "code",
   "execution_count": null,
   "id": "9cc9f54f-fe06-43ee-8390-fece9e9d6ca7",
   "metadata": {},
   "outputs": [],
   "source": []
  },
  {
   "cell_type": "markdown",
   "id": "a05d747a-af98-4d0f-a547-529f10b40374",
   "metadata": {},
   "source": [
    "# Question 6: Time Check\n",
    "# You are given a dataset, dataset-2.csv, containing columns id, id_2, and timestamp (startDay, startTime, endDay, endTime). The goal is to verify the completeness of the time data by checking whether the timestamps for each unique (id, id_2) pair cover a full 24-hour period (from 12:00:00 AM to 11:59:59 PM) and span all 7 days of the week (from Monday to Sunday).\n",
    "\n",
    "# Create a function that accepts dataset-2.csv as a DataFrame and returns a boolean series that indicates if each (id, id_2) pair has incorrect timestamps. The boolean series must have multi-index (id, id_2)."
   ]
  },
  {
   "cell_type": "markdown",
   "id": "f877022a-ddf7-492a-b912-1fe6a94c8060",
   "metadata": {},
   "source": [
    "# dataset 2 not download and also not showing this (Sorry about that, but we can’t show files that are this big right now.)"
   ]
  },
  {
   "cell_type": "code",
   "execution_count": null,
   "id": "f6d7d94f-d404-47b5-9f0c-5ef409eda201",
   "metadata": {},
   "outputs": [],
   "source": []
  },
  {
   "cell_type": "code",
   "execution_count": null,
   "id": "4d851cab-f9df-4f81-9a78-e00080387e7e",
   "metadata": {},
   "outputs": [],
   "source": []
  },
  {
   "cell_type": "code",
   "execution_count": null,
   "id": "63ba1330-438b-4ff3-aa38-450d5201f194",
   "metadata": {},
   "outputs": [],
   "source": []
  },
  {
   "cell_type": "markdown",
   "id": "d1042179-5380-478d-a116-104fe86a0025",
   "metadata": {},
   "source": [
    "# Question 1: Distance Matrix Calculation\n",
    "# Create a function named calculate_distance_matrix that takes the dataset-3.csv as input and generates a DataFrame representing distances between IDs.\n",
    "\n",
    "# The resulting DataFrame should have cumulative distances along known routes, with diagonal values set to 0. If distances between toll locations A to B and B to C are known, then the distance from A to C should be the sum of these distances. Ensure the matrix is symmetric, accounting for bidirectional distances between toll locations (i.e. A to B is equal to B to A).\n",
    "\n",
    "# Sample result dataframe:"
   ]
  },
  {
   "cell_type": "code",
   "execution_count": 16,
   "id": "b829f556-aeb4-47be-bb5a-e128520617ab",
   "metadata": {
    "tags": []
   },
   "outputs": [
    {
     "name": "stdout",
     "output_type": "stream",
     "text": [
      "          1001400.0 1001402.0 1001404.0 1001406.0 1001408.0 1001410.0  \\\n",
      "1001400.0       0.0       9.7      29.9      45.9      67.6      78.7   \n",
      "1001402.0       9.7       0.0      20.2      36.2      57.9      69.0   \n",
      "1001404.0      29.9      20.2       0.0      16.0      37.7      48.8   \n",
      "1001406.0      45.9      36.2      16.0       0.0      21.7      32.8   \n",
      "1001408.0      67.6      57.9      37.7      21.7       0.0      11.1   \n",
      "1001410.0      78.7      69.0      48.8      32.8      11.1       0.0   \n",
      "1001412.0      94.3      84.6      64.4      48.4      26.7      15.6   \n",
      "1001414.0     112.5     102.8      82.6      66.6      44.9      33.8   \n",
      "1001416.0     125.7     116.0      95.8      79.8      58.1      47.0   \n",
      "1001418.0     139.3     129.6     109.4      93.4      71.7      60.6   \n",
      "1001420.0     152.2     142.5     122.3     106.3      84.6      73.5   \n",
      "1001422.0     161.8     152.1     131.9     115.9      94.2      83.1   \n",
      "1001424.0     173.2     163.5     143.3     127.3     105.6      94.5   \n",
      "1001426.0     191.8     182.1     161.9     145.9     124.2     113.1   \n",
      "1001428.0     207.6     197.9     177.7     161.7     140.0     128.9   \n",
      "1001430.0     216.2     206.5     186.3     170.3     148.6     137.5   \n",
      "1001432.0     225.2     215.5     195.3     179.3     157.6     146.5   \n",
      "1001434.0     233.1     223.4     203.2     187.2     165.5     154.4   \n",
      "1001436.0     237.1     227.4     207.2     191.2     169.5     158.4   \n",
      "1001437.0     242.1     232.4     212.2     196.2     174.5     163.4   \n",
      "1001438.0     246.1     236.4     216.2     200.2     178.5     167.4   \n",
      "1001440.0     256.1     246.4     226.2     210.2     188.5     177.4   \n",
      "1001442.0     260.0     250.3     230.1     214.1     192.4     181.3   \n",
      "1001444.0     273.2     263.5     243.3     227.3     205.6     194.5   \n",
      "1001446.0     279.8     270.1     249.9     233.9     212.2     201.1   \n",
      "1001448.0     289.4     279.7     259.5     243.5     221.8     210.7   \n",
      "1001450.0     305.1     295.4     275.2     259.2     237.5     226.4   \n",
      "1001452.0     315.0     305.3     285.1     269.1     247.4     236.3   \n",
      "1001454.0     326.3     316.6     296.4     280.4     258.7     247.6   \n",
      "1001456.0     339.9     330.2     310.0     294.0     272.3     261.2   \n",
      "1001458.0     348.8     339.1     318.9     302.9     281.2     270.1   \n",
      "1001460.0     353.9     344.2     324.0     308.0     286.3     275.2   \n",
      "1001461.0     366.7     357.0     336.8     320.8     299.1     288.0   \n",
      "1001462.0     371.8     362.1     341.9     325.9     304.2     293.1   \n",
      "1001464.0     398.5     388.8     368.6     352.6     330.9     319.8   \n",
      "1001466.0     407.0     397.3     377.1     361.1     339.4     328.3   \n",
      "1001468.0     417.7     408.0     387.8     371.8     350.1     339.0   \n",
      "1001470.0     428.3     418.6     398.4     382.4     360.7     349.6   \n",
      "1001472.0     444.3     434.6     414.4     398.4     376.7     365.6   \n",
      "1001488.0     264.5     254.8     234.6     218.6     196.9     185.8   \n",
      "1004354.0     270.5     260.8     240.6     224.6     202.9     191.8   \n",
      "1004355.0     272.5     262.8     242.6     226.6     204.9     193.8   \n",
      "1004356.0     268.5     258.8     238.6     222.6     200.9     189.8   \n",
      "\n",
      "          1001412.0 1001414.0 1001416.0 1001418.0  ... 1001462.0 1001464.0  \\\n",
      "1001400.0      94.3     112.5     125.7     139.3  ...     371.8     398.5   \n",
      "1001402.0      84.6     102.8     116.0     129.6  ...     362.1     388.8   \n",
      "1001404.0      64.4      82.6      95.8     109.4  ...     341.9     368.6   \n",
      "1001406.0      48.4      66.6      79.8      93.4  ...     325.9     352.6   \n",
      "1001408.0      26.7      44.9      58.1      71.7  ...     304.2     330.9   \n",
      "1001410.0      15.6      33.8      47.0      60.6  ...     293.1     319.8   \n",
      "1001412.0       0.0      18.2      31.4      45.0  ...     277.5     304.2   \n",
      "1001414.0      18.2       0.0      13.2      26.8  ...     259.3     286.0   \n",
      "1001416.0      31.4      13.2       0.0      13.6  ...     246.1     272.8   \n",
      "1001418.0      45.0      26.8      13.6       0.0  ...     232.5     259.2   \n",
      "1001420.0      57.9      39.7      26.5      12.9  ...     219.6     246.3   \n",
      "1001422.0      67.5      49.3      36.1      22.5  ...     210.0     236.7   \n",
      "1001424.0      78.9      60.7      47.5      33.9  ...     198.6     225.3   \n",
      "1001426.0      97.5      79.3      66.1      52.5  ...     180.0     206.7   \n",
      "1001428.0     113.3      95.1      81.9      68.3  ...     164.2     190.9   \n",
      "1001430.0     121.9     103.7      90.5      76.9  ...     155.6     182.3   \n",
      "1001432.0     130.9     112.7      99.5      85.9  ...     146.6     173.3   \n",
      "1001434.0     138.8     120.6     107.4      93.8  ...     138.7     165.4   \n",
      "1001436.0     142.8     124.6     111.4      97.8  ...     134.7     161.4   \n",
      "1001437.0     147.8     129.6     116.4     102.8  ...     129.7     156.4   \n",
      "1001438.0     151.8     133.6     120.4     106.8  ...     125.7     152.4   \n",
      "1001440.0     161.8     143.6     130.4     116.8  ...     115.7     142.4   \n",
      "1001442.0     165.7     147.5     134.3     120.7  ...     111.8     138.5   \n",
      "1001444.0     178.9     160.7     147.5     133.9  ...      98.6     125.3   \n",
      "1001446.0     185.5     167.3     154.1     140.5  ...      92.0     118.7   \n",
      "1001448.0     195.1     176.9     163.7     150.1  ...      82.4     109.1   \n",
      "1001450.0     210.8     192.6     179.4     165.8  ...      66.7      93.4   \n",
      "1001452.0     220.7     202.5     189.3     175.7  ...      56.8      83.5   \n",
      "1001454.0     232.0     213.8     200.6     187.0  ...      45.5      72.2   \n",
      "1001456.0     245.6     227.4     214.2     200.6  ...      31.9      58.6   \n",
      "1001458.0     254.5     236.3     223.1     209.5  ...      23.0      49.7   \n",
      "1001460.0     259.6     241.4     228.2     214.6  ...      17.9      44.6   \n",
      "1001461.0     272.4     254.2     241.0     227.4  ...       5.1      31.8   \n",
      "1001462.0     277.5     259.3     246.1     232.5  ...       0.0      26.7   \n",
      "1001464.0     304.2     286.0     272.8     259.2  ...      26.7       0.0   \n",
      "1001466.0     312.7     294.5     281.3     267.7  ...      35.2       8.5   \n",
      "1001468.0     323.4     305.2     292.0     278.4  ...      45.9      19.2   \n",
      "1001470.0     334.0     315.8     302.6     289.0  ...      56.5      29.8   \n",
      "1001472.0     350.0     331.8     318.6     305.0  ...      72.5      45.8   \n",
      "1001488.0     170.2     152.0     138.8     125.2  ...     107.3     134.0   \n",
      "1004354.0     176.2     158.0     144.8     131.2  ...     101.3     128.0   \n",
      "1004355.0     178.2     160.0     146.8     133.2  ...      99.3     126.0   \n",
      "1004356.0     174.2     156.0     142.8     129.2  ...     103.3     130.0   \n",
      "\n",
      "          1001466.0 1001468.0 1001470.0 1001472.0 1001488.0 1004354.0  \\\n",
      "1001400.0     407.0     417.7     428.3     444.3     264.5     270.5   \n",
      "1001402.0     397.3     408.0     418.6     434.6     254.8     260.8   \n",
      "1001404.0     377.1     387.8     398.4     414.4     234.6     240.6   \n",
      "1001406.0     361.1     371.8     382.4     398.4     218.6     224.6   \n",
      "1001408.0     339.4     350.1     360.7     376.7     196.9     202.9   \n",
      "1001410.0     328.3     339.0     349.6     365.6     185.8     191.8   \n",
      "1001412.0     312.7     323.4     334.0     350.0     170.2     176.2   \n",
      "1001414.0     294.5     305.2     315.8     331.8     152.0     158.0   \n",
      "1001416.0     281.3     292.0     302.6     318.6     138.8     144.8   \n",
      "1001418.0     267.7     278.4     289.0     305.0     125.2     131.2   \n",
      "1001420.0     254.8     265.5     276.1     292.1     112.3     118.3   \n",
      "1001422.0     245.2     255.9     266.5     282.5     102.7     108.7   \n",
      "1001424.0     233.8     244.5     255.1     271.1      91.3      97.3   \n",
      "1001426.0     215.2     225.9     236.5     252.5      72.7      78.7   \n",
      "1001428.0     199.4     210.1     220.7     236.7      56.9      62.9   \n",
      "1001430.0     190.8     201.5     212.1     228.1      48.3      54.3   \n",
      "1001432.0     181.8     192.5     203.1     219.1      39.3      45.3   \n",
      "1001434.0     173.9     184.6     195.2     211.2      31.4      37.4   \n",
      "1001436.0     169.9     180.6     191.2     207.2      27.4      33.4   \n",
      "1001437.0     164.9     175.6     186.2     202.2      22.4      28.4   \n",
      "1001438.0     160.9     171.6     182.2     198.2      18.4      24.4   \n",
      "1001440.0     150.9     161.6     172.2     188.2       8.4      14.4   \n",
      "1001442.0     147.0     157.7     168.3     184.3       4.5      10.5   \n",
      "1001444.0     133.8     144.5     155.1     171.1       8.7       2.7   \n",
      "1001446.0     127.2     137.9     148.5     164.5      15.3       9.3   \n",
      "1001448.0     117.6     128.3     138.9     154.9      24.9      18.9   \n",
      "1001450.0     101.9     112.6     123.2     139.2      40.6      34.6   \n",
      "1001452.0      92.0     102.7     113.3     129.3      50.5      44.5   \n",
      "1001454.0      80.7      91.4     102.0     118.0      61.8      55.8   \n",
      "1001456.0      67.1      77.8      88.4     104.4      75.4      69.4   \n",
      "1001458.0      58.2      68.9      79.5      95.5      84.3      78.3   \n",
      "1001460.0      53.1      63.8      74.4      90.4      89.4      83.4   \n",
      "1001461.0      40.3      51.0      61.6      77.6     102.2      96.2   \n",
      "1001462.0      35.2      45.9      56.5      72.5     107.3     101.3   \n",
      "1001464.0       8.5      19.2      29.8      45.8     134.0     128.0   \n",
      "1001466.0       0.0      10.7      21.3      37.3     142.5     136.5   \n",
      "1001468.0      10.7       0.0      10.6      26.6     153.2     147.2   \n",
      "1001470.0      21.3      10.6       0.0      16.0     163.8     157.8   \n",
      "1001472.0      37.3      26.6      16.0       0.0     179.8     173.8   \n",
      "1001488.0     142.5     153.2     163.8     179.8       0.0       6.0   \n",
      "1004354.0     136.5     147.2     157.8     173.8       6.0       0.0   \n",
      "1004355.0     134.5     145.2     155.8     171.8       8.0       2.0   \n",
      "1004356.0     138.5     149.2     159.8     175.8       4.0       2.0   \n",
      "\n",
      "          1004355.0 1004356.0  \n",
      "1001400.0     272.5     268.5  \n",
      "1001402.0     262.8     258.8  \n",
      "1001404.0     242.6     238.6  \n",
      "1001406.0     226.6     222.6  \n",
      "1001408.0     204.9     200.9  \n",
      "1001410.0     193.8     189.8  \n",
      "1001412.0     178.2     174.2  \n",
      "1001414.0     160.0     156.0  \n",
      "1001416.0     146.8     142.8  \n",
      "1001418.0     133.2     129.2  \n",
      "1001420.0     120.3     116.3  \n",
      "1001422.0     110.7     106.7  \n",
      "1001424.0      99.3      95.3  \n",
      "1001426.0      80.7      76.7  \n",
      "1001428.0      64.9      60.9  \n",
      "1001430.0      56.3      52.3  \n",
      "1001432.0      47.3      43.3  \n",
      "1001434.0      39.4      35.4  \n",
      "1001436.0      35.4      31.4  \n",
      "1001437.0      30.4      26.4  \n",
      "1001438.0      26.4      22.4  \n",
      "1001440.0      16.4      12.4  \n",
      "1001442.0      12.5       8.5  \n",
      "1001444.0       0.7       4.7  \n",
      "1001446.0       7.3      11.3  \n",
      "1001448.0      16.9      20.9  \n",
      "1001450.0      32.6      36.6  \n",
      "1001452.0      42.5      46.5  \n",
      "1001454.0      53.8      57.8  \n",
      "1001456.0      67.4      71.4  \n",
      "1001458.0      76.3      80.3  \n",
      "1001460.0      81.4      85.4  \n",
      "1001461.0      94.2      98.2  \n",
      "1001462.0      99.3     103.3  \n",
      "1001464.0     126.0     130.0  \n",
      "1001466.0     134.5     138.5  \n",
      "1001468.0     145.2     149.2  \n",
      "1001470.0     155.8     159.8  \n",
      "1001472.0     171.8     175.8  \n",
      "1001488.0       8.0       4.0  \n",
      "1004354.0       2.0       2.0  \n",
      "1004355.0       0.0       4.0  \n",
      "1004356.0       4.0       0.0  \n",
      "\n",
      "[43 rows x 43 columns]\n"
     ]
    }
   ],
   "source": [
    "import pandas as pd\n",
    "import networkx as nx\n",
    "\n",
    "def calculate_distance_matrix(dataset_path):\n",
    "    # Load the dataset into a DataFrame\n",
    "    df = pd.read_csv(dataset_path)\n",
    "\n",
    "    # Create a graph using networkx\n",
    "    G = nx.Graph()\n",
    "\n",
    "    # Add edges to the graph with distances as weights\n",
    "    for _, row in df.iterrows():\n",
    "        G.add_edge(row['id_start'], row['id_end'], weight=row['distance'])\n",
    "\n",
    "    # Calculate the shortest paths between toll locations\n",
    "    shortest_paths = dict(nx.all_pairs_dijkstra_path_length(G))\n",
    "\n",
    "    # Create a DataFrame with cumulative distances\n",
    "    toll_locations = sorted(G.nodes)\n",
    "    distance_matrix = pd.DataFrame(index=toll_locations, columns=toll_locations)\n",
    "\n",
    "    for toll1 in toll_locations:\n",
    "        for toll2 in toll_locations:\n",
    "            # Set diagonal values to 0\n",
    "            if toll1 == toll2:\n",
    "                distance_matrix.at[toll1, toll2] = 0\n",
    "            else:\n",
    "                # Get the cumulative distance from toll1 to toll2\n",
    "                distance_matrix.at[toll1, toll2] = shortest_paths[toll1][toll2]\n",
    "\n",
    "    # Make the matrix symmetric\n",
    "    distance_matrix = distance_matrix.add(distance_matrix.T).div(2)\n",
    "\n",
    "    return distance_matrix\n",
    "\n",
    "# Example usage:\n",
    "dataset_path = 'dataset3.csv'\n",
    "result_distance_matrix = calculate_distance_matrix(dataset_path)\n",
    "print(result_distance_matrix)\n"
   ]
  },
  {
   "cell_type": "code",
   "execution_count": null,
   "id": "8d3b3db5-3703-4365-9376-925bcf694080",
   "metadata": {},
   "outputs": [],
   "source": []
  },
  {
   "cell_type": "code",
   "execution_count": null,
   "id": "92f8abfe-1ef9-47c2-bf93-ae4fa3a8f8af",
   "metadata": {},
   "outputs": [],
   "source": []
  },
  {
   "cell_type": "markdown",
   "id": "f416b781-23f8-4540-b61b-f1a8d4632f41",
   "metadata": {},
   "source": [
    "# Question 2: Unroll Distance Matrix\n",
    "# Create a function unroll_distance_matrix that takes the DataFrame created in Question 1. The resulting DataFrame should have three columns: columns id_start, id_end, and distance.\n",
    "\n",
    "# All the combinations except for same id_start to id_end must be present in the rows with their distance values from the input DataFrame."
   ]
  },
  {
   "cell_type": "code",
   "execution_count": 17,
   "id": "aeef8e50-90f7-4c9f-8250-53cb1ce41aeb",
   "metadata": {
    "tags": []
   },
   "outputs": [],
   "source": [
    "import pandas as pd\n",
    "\n",
    "def unroll_distance_matrix(distance_matrix):\n",
    "    # Reset the index to get toll_booth1 as a column\n",
    "    distance_matrix = distance_matrix.reset_index()\n",
    "\n",
    "    # Melt the DataFrame to convert it to long format\n",
    "    melted_distance_matrix = pd.melt(distance_matrix, id_vars='index', var_name='id_end', value_name='distance')\n",
    "\n",
    "    # Rename the columns\n",
    "    melted_distance_matrix.columns = ['id_start', 'id_end', 'distance']\n",
    "\n",
    "    # Exclude rows where id_start is equal to id_end\n",
    "    melted_distance_matrix = melted_distance_matrix[melted_distance_matrix['id_start'] != melted_distance_matrix['id_end']]\n",
    "\n",
    "    # Reset the index\n",
    "    melted_distance_matrix = melted_distance_matrix.reset_index(drop=True)\n",
    "\n",
    "    return melted_distance_matrix\n",
    "\n",
    "# Example usage:\n",
    "# Assuming result_distance_matrix is the DataFrame obtained from Question 1\n",
    "# result_unrolled_matrix = unroll_distance_matrix(result_distance_matrix)\n",
    "# print(result_unrolled_matrix)\n"
   ]
  },
  {
   "cell_type": "code",
   "execution_count": null,
   "id": "96d98ade-1638-4639-9874-90b2ccabdb4d",
   "metadata": {},
   "outputs": [],
   "source": []
  },
  {
   "cell_type": "code",
   "execution_count": null,
   "id": "be4ddbd9-a7ff-4e43-b739-1c5574e59c35",
   "metadata": {},
   "outputs": [],
   "source": []
  },
  {
   "cell_type": "markdown",
   "id": "92687fb3-0f6b-43f0-9309-44989ab8b000",
   "metadata": {},
   "source": [
    "# uestion 3: Finding IDs within Percentage Threshold\n",
    "# Create a function find_ids_within_ten_percentage_threshold that takes the DataFrame created in Question 2 and a reference value from the id_start column as an integer.\n",
    "\n",
    "# Calculate average distance for the reference value given as an input and return a sorted list of values from id_start column which lie within 10% (including ceiling and floor) of the reference value's average."
   ]
  },
  {
   "cell_type": "code",
   "execution_count": 18,
   "id": "5045770d-7a66-402d-ba57-883c7c940898",
   "metadata": {
    "tags": []
   },
   "outputs": [],
   "source": [
    "import pandas as pd\n",
    "\n",
    "def find_ids_within_ten_percentage_threshold(distance_df, reference_value):\n",
    "    # Filter the DataFrame based on the reference value\n",
    "    reference_subset = distance_df[distance_df['id_start'] == reference_value]\n",
    "\n",
    "    # Calculate the average distance for the reference value\n",
    "    average_distance = reference_subset['distance'].mean()\n",
    "\n",
    "    # Calculate the lower and upper bounds for the 10% threshold\n",
    "    lower_bound = average_distance - (average_distance * 0.1)\n",
    "    upper_bound = average_distance + (average_distance * 0.1)\n",
    "\n",
    "    # Filter the DataFrame to include only values within the 10% threshold\n",
    "    within_threshold_df = distance_df[\n",
    "        (distance_df['distance'] >= lower_bound) & (distance_df['distance'] <= upper_bound)\n",
    "    ]\n",
    "\n",
    "    # Get the unique values from the 'id_start' column and sort them\n",
    "    result_ids = sorted(within_threshold_df['id_start'].unique())\n",
    "\n",
    "    return result_ids\n",
    "\n",
    "# Example usage:\n",
    "# Assuming result_unrolled_matrix is the DataFrame obtained from Question 2\n",
    "# reference_value = 1  # Replace with the desired reference value\n",
    "# result_within_threshold = find_ids_within_ten_percentage_threshold(result_unrolled_matrix, reference_value)\n",
    "# print(result_within_threshold)\n"
   ]
  },
  {
   "cell_type": "code",
   "execution_count": null,
   "id": "894b4f82-22d5-4412-a614-e90811d5e830",
   "metadata": {},
   "outputs": [],
   "source": []
  },
  {
   "cell_type": "code",
   "execution_count": null,
   "id": "06a7f75f-f50f-41b7-bb9d-38748bb61e85",
   "metadata": {},
   "outputs": [],
   "source": []
  },
  {
   "cell_type": "markdown",
   "id": "3ea0de15-6306-4fd0-a44b-6a996f2402ca",
   "metadata": {},
   "source": [
    "# Question 4: Calculate Toll Rate\n",
    "# Create a function calculate_toll_rate that takes the DataFrame created in Question 2 as input and calculates toll rates based on vehicle types.\n",
    "\n",
    "# The resulting DataFrame should add 5 columns to the input DataFrame: moto, car, rv, bus, and truck with their respective rate coefficients. The toll rates should be calculated by multiplying the distance with the given rate coefficients for each vehicle type:\n",
    "\n",
    "# 0.8 for moto\n",
    "# 1.2 for car\n",
    "# 1.5 for rv\n",
    "# 2.2 for bus\n",
    "# 3.6 for truck"
   ]
  },
  {
   "cell_type": "code",
   "execution_count": 19,
   "id": "62f81aa6-2751-4d6e-b647-dd9ab581940d",
   "metadata": {
    "tags": []
   },
   "outputs": [],
   "source": [
    "import pandas as pd\n",
    "\n",
    "def calculate_toll_rate(distance_df):\n",
    "    # Define rate coefficients for each vehicle type\n",
    "    rate_coefficients = {'moto': 0.8, 'car': 1.2, 'rv': 1.5, 'bus': 2.2, 'truck': 3.6}\n",
    "\n",
    "    # Initialize new columns for each vehicle type\n",
    "    for vehicle_type in rate_coefficients.keys():\n",
    "        distance_df[vehicle_type] = distance_df['distance'] * rate_coefficients[vehicle_type]\n",
    "\n",
    "    return distance_df\n",
    "\n",
    "# Example usage:\n",
    "# Assuming result_unrolled_matrix is the DataFrame obtained from Question 2\n",
    "# result_with_toll_rates = calculate_toll_rate(result_unrolled_matrix)\n",
    "# print(result_with_toll_rates)\n"
   ]
  },
  {
   "cell_type": "code",
   "execution_count": null,
   "id": "769dba0c-e0a9-4667-9559-64c975541e5a",
   "metadata": {},
   "outputs": [],
   "source": []
  },
  {
   "cell_type": "code",
   "execution_count": null,
   "id": "542c818c-bf60-48d9-ab10-0f9eb1b87923",
   "metadata": {},
   "outputs": [],
   "source": []
  },
  {
   "cell_type": "markdown",
   "id": "8bdb696b-c1fa-434c-8065-68ebe7d1aab6",
   "metadata": {},
   "source": [
    "# Question 5: Calculate Time-Based Toll Rates\n",
    "# Create a function named calculate_time_based_toll_rates that takes the DataFrame created in Question 4 as input and calculates toll rates for different time intervals within a day.\n",
    "\n",
    "# The resulting DataFrame should have these five columns added to the input: start_day, start_time, end_day, and end_time.\n",
    "\n",
    "# start_day, end_day must be strings with day values (from Monday to Sunday in proper case)\n",
    "# start_time and end_time must be of type datetime.time() with the values from time range given below.\n",
    "# Modify the values of vehicle columns according to the following time ranges:\n",
    "\n"
   ]
  },
  {
   "cell_type": "code",
   "execution_count": 20,
   "id": "45ac17b3-984f-4feb-abba-d66e65c238af",
   "metadata": {
    "tags": []
   },
   "outputs": [],
   "source": [
    "import pandas as pd\n",
    "from datetime import time\n",
    "\n",
    "def calculate_time_based_toll_rates(toll_rates_df):\n",
    "    # Define time ranges and corresponding discount factors\n",
    "    time_ranges_weekdays = [\n",
    "        (time(0, 0, 0), time(10, 0, 0), 0.8),\n",
    "        (time(10, 0, 0), time(18, 0, 0), 1.2),\n",
    "        (time(18, 0, 0), time(23, 59, 59), 0.8)\n",
    "    ]\n",
    "\n",
    "    time_ranges_weekends = [\n",
    "        (time(0, 0, 0), time(23, 59, 59), 0.7)\n",
    "    ]\n",
    "\n",
    "    # Initialize new columns for time-based toll rates\n",
    "    for time_range in time_ranges_weekdays:\n",
    "        toll_rates_df[f\"{time_range[0]}_{time_range[1]}\"] = toll_rates_df.apply(\n",
    "            lambda row: row['distance'] * time_range[2] if row['start_day'] < 'Saturday' else row['distance'] * 0.7,\n",
    "            axis=1\n",
    "        )\n",
    "\n",
    "    # Reshape the DataFrame to have a separate row for each time range\n",
    "    result_df = toll_rates_df.melt(\n",
    "        id_vars=['id_start', 'id_end', 'start_day', 'start_time', 'end_day', 'end_time', 'distance'],\n",
    "        var_name='time_range', value_name='time_based_toll_rate'\n",
    "    )\n",
    "\n",
    "    # Extract start_time and end_time from the time_range column\n",
    "    result_df[['start_time', 'end_time']] = result_df['time_range'].str.split('_', expand=True)\n",
    "    result_df['start_time'] = pd.to_datetime(result_df['start_time'], format='%H:%M:%S').dt.time\n",
    "    result_df['end_time'] = pd.to_datetime(result_df['end_time'], format='%H:%M:%S').dt.time\n",
    "\n",
    "    # Drop unnecessary columns\n",
    "    result_df = result_df.drop(['time_range'], axis=1)\n",
    "\n",
    "    return result_df\n",
    "\n",
    "# Example usage:\n",
    "# Assuming result_with_toll_rates is the DataFrame obtained from Question 4\n",
    "# result_time_based_toll_rates = calculate_time_based_toll_rates(result_with_toll_rates)\n",
    "# print(result_time_based_toll_rates)\n"
   ]
  },
  {
   "cell_type": "code",
   "execution_count": null,
   "id": "4c52d463-1c0b-44e6-b2ab-71644f417109",
   "metadata": {},
   "outputs": [],
   "source": []
  },
  {
   "cell_type": "code",
   "execution_count": null,
   "id": "0ad5446b-45ca-4d61-9aff-b499ecb73e37",
   "metadata": {},
   "outputs": [],
   "source": []
  },
  {
   "cell_type": "code",
   "execution_count": null,
   "id": "c4e1d56a-3877-4ff9-8017-5d912b816922",
   "metadata": {},
   "outputs": [],
   "source": []
  }
 ],
 "metadata": {
  "kernelspec": {
   "display_name": "Python 3 (ipykernel)",
   "language": "python",
   "name": "python3"
  },
  "language_info": {
   "codemirror_mode": {
    "name": "ipython",
    "version": 3
   },
   "file_extension": ".py",
   "mimetype": "text/x-python",
   "name": "python",
   "nbconvert_exporter": "python",
   "pygments_lexer": "ipython3",
   "version": "3.11.5"
  }
 },
 "nbformat": 4,
 "nbformat_minor": 5
}
